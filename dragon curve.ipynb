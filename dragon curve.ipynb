{
 "cells": [
  {
   "cell_type": "code",
   "execution_count": 1,
   "metadata": {},
   "outputs": [],
   "source": [
    "import turtle"
   ]
  },
  {
   "cell_type": "code",
   "execution_count": 2,
   "metadata": {},
   "outputs": [],
   "source": [
    "r = 'r' \n",
    "l = 'l'\n",
    "\n",
    "old = r \n",
    "new = old "
   ]
  },
  {
   "cell_type": "code",
   "execution_count": 3,
   "metadata": {},
   "outputs": [
    {
     "name": "stdout",
     "output_type": "stream",
     "text": [
      "Enter iteration:25\n",
      "Enter length of each segment:2\n",
      "Enter pen color:white\n",
      "Enter background color:black\n"
     ]
    }
   ],
   "source": [
    "iteration = int(input('Enter iteration:'))  \n",
    "length = int(input('Enter length of each segment:'))  \n",
    "pencolor = input('Enter pen color:')  \n",
    "bgcolor = input('Enter background color:') "
   ]
  },
  {
   "cell_type": "code",
   "execution_count": 4,
   "metadata": {},
   "outputs": [],
   "source": [
    "cycle = 1"
   ]
  },
  {
   "cell_type": "code",
   "execution_count": null,
   "metadata": {},
   "outputs": [],
   "source": [
    "while cycle<iteration:  \n",
    "    new = (old) + (r)   \n",
    "    old = old[::-1]  \n",
    "    for char in range(0, len(old)):  \n",
    "        if old[char] == r:  \n",
    "            old = (old[:char])+ (l) + (old[char + 1:]) \n",
    "        elif old[char] == l:  \n",
    "            old = (old[:char]) + (r) + (old[char + 1:])  \n",
    "    new = (new) + (old)  \n",
    "    old = new \n",
    "    cycle = cycle + 1\n",
    "    \n",
    "    \n",
    "printans = input('Display r/l form?(y/n):')  \n",
    "if printans =='y':  \n",
    "    print(new) \n",
    "      \n",
    "turtle.ht() \n",
    "turtle.speed(0)  \n",
    "turtle.color(pencolor)  \n",
    "turtle.bgcolor(bgcolor)  \n",
    "turtle.forward(length)  \n",
    "  \n",
    "    \n",
    "for char in range(0, len(new)):  \n",
    "    if new[char] == (r):  \n",
    "        turtle.right(90)  \n",
    "        turtle.forward(length)  \n",
    "    elif new[char] == (l):     \n",
    "        turtle.left(90) \n",
    "        turtle.forward(length) "
   ]
  },
  {
   "cell_type": "code",
   "execution_count": null,
   "metadata": {},
   "outputs": [],
   "source": [
    "https://www.geeksforgeeks.org/heighways-dragon-curve-python/"
   ]
  }
 ],
 "metadata": {
  "kernelspec": {
   "display_name": "Python 3",
   "language": "python",
   "name": "python3"
  },
  "language_info": {
   "codemirror_mode": {
    "name": "ipython",
    "version": 3
   },
   "file_extension": ".py",
   "mimetype": "text/x-python",
   "name": "python",
   "nbconvert_exporter": "python",
   "pygments_lexer": "ipython3",
   "version": "3.7.3"
  }
 },
 "nbformat": 4,
 "nbformat_minor": 2
}
